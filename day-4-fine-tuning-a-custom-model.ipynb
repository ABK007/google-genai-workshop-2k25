{
 "cells": [
  {
   "cell_type": "code",
   "execution_count": 1,
   "id": "3837d89e",
   "metadata": {
    "cellView": "form",
    "execution": {
     "iopub.execute_input": "2025-04-07T05:29:07.246477Z",
     "iopub.status.busy": "2025-04-07T05:29:07.246049Z",
     "iopub.status.idle": "2025-04-07T05:29:07.252485Z",
     "shell.execute_reply": "2025-04-07T05:29:07.250984Z"
    },
    "id": "d6597b11df14",
    "jupyter": {
     "source_hidden": true
    },
    "papermill": {
     "duration": 0.019762,
     "end_time": "2025-04-07T05:29:07.254797",
     "exception": false,
     "start_time": "2025-04-07T05:29:07.235035",
     "status": "completed"
    },
    "tags": []
   },
   "outputs": [],
   "source": [
    "# @title Licensed under the Apache License, Version 2.0 (the \"License\");\n",
    "# you may not use this file except in compliance with the License.\n",
    "# You may obtain a copy of the License at\n",
    "#\n",
    "# https://www.apache.org/licenses/LICENSE-2.0\n",
    "#\n",
    "# Unless required by applicable law or agreed to in writing, software\n",
    "# distributed under the License is distributed on an \"AS IS\" BASIS,\n",
    "# WITHOUT WARRANTIES OR CONDITIONS OF ANY KIND, either express or implied.\n",
    "# See the License for the specific language governing permissions and\n",
    "# limitations under the License."
   ]
  },
  {
   "cell_type": "markdown",
   "id": "154629b8",
   "metadata": {
    "id": "4KDIFPAL2EnL",
    "papermill": {
     "duration": 0.00764,
     "end_time": "2025-04-07T05:29:07.270652",
     "exception": false,
     "start_time": "2025-04-07T05:29:07.263012",
     "status": "completed"
    },
    "tags": []
   },
   "source": [
    "# Day 4 - Fine tuning a custom model\n",
    "\n",
    "Welcome back to the Kaggle 5-day Generative AI course!\n",
    "\n",
    "In this notebook you will use the Gemini API to fine-tune a custom, task-specific model. Fine-tuning can be used for a variety of tasks from classic NLP problems like entity extraction or summarisation, to creative tasks like stylised generation. You will fine-tune a model to classify the category a piece of text (a newsgroup post) into the category it belongs to (the newsgroup name).\n",
    "\n",
    "This codelab walks you tuning a model with the API. [AI Studio](https://aistudio.google.com/app/tune) also supports creating new tuned models directly in the web UI, allowing you to quickly create and monitor models using data from Google Sheets, Drive or your own files.\n",
    "\n",
    "**Note**: We recommend doing this codelab first today. There may be a period of waiting while the model tunes, so if you start with this one, you can try the other codelab while you wait."
   ]
  },
  {
   "cell_type": "code",
   "execution_count": 2,
   "id": "11490ef4",
   "metadata": {
    "execution": {
     "iopub.execute_input": "2025-04-07T05:29:07.288466Z",
     "iopub.status.busy": "2025-04-07T05:29:07.288079Z",
     "iopub.status.idle": "2025-04-07T05:29:26.453760Z",
     "shell.execute_reply": "2025-04-07T05:29:26.452243Z"
    },
    "id": "9wafTyEH1_xF",
    "papermill": {
     "duration": 19.177554,
     "end_time": "2025-04-07T05:29:26.456655",
     "exception": false,
     "start_time": "2025-04-07T05:29:07.279101",
     "status": "completed"
    },
    "tags": []
   },
   "outputs": [],
   "source": [
    "!pip uninstall -qqy jupyterlab  # Remove unused conflicting packages\n",
    "!pip install -U -q \"google-genai==1.7.0\""
   ]
  },
  {
   "cell_type": "code",
   "execution_count": 3,
   "id": "4a9ec720",
   "metadata": {
    "execution": {
     "iopub.execute_input": "2025-04-07T05:29:26.474353Z",
     "iopub.status.busy": "2025-04-07T05:29:26.473916Z",
     "iopub.status.idle": "2025-04-07T05:29:27.840285Z",
     "shell.execute_reply": "2025-04-07T05:29:27.839180Z"
    },
    "id": "T0CBG9xL2PvT",
    "papermill": {
     "duration": 1.378153,
     "end_time": "2025-04-07T05:29:27.842750",
     "exception": false,
     "start_time": "2025-04-07T05:29:26.464597",
     "status": "completed"
    },
    "tags": []
   },
   "outputs": [
    {
     "data": {
      "text/plain": [
       "'1.7.0'"
      ]
     },
     "execution_count": 3,
     "metadata": {},
     "output_type": "execute_result"
    }
   ],
   "source": [
    "from google import genai\n",
    "from google.genai import types\n",
    "\n",
    "genai.__version__"
   ]
  },
  {
   "cell_type": "markdown",
   "id": "7696bbd9",
   "metadata": {
    "id": "P4bYX2T72ScK",
    "papermill": {
     "duration": 0.007621,
     "end_time": "2025-04-07T05:29:27.858481",
     "exception": false,
     "start_time": "2025-04-07T05:29:27.850860",
     "status": "completed"
    },
    "tags": []
   },
   "source": [
    "### Set up your API key\n",
    "\n",
    "To run the following cell, your API key must be stored it in a [Kaggle secret](https://www.kaggle.com/discussions/product-feedback/114053) named `GOOGLE_API_KEY`.\n",
    "\n",
    "If you don't already have an API key, you can grab one from [AI Studio](https://aistudio.google.com/app/apikey). You can find [detailed instructions in the docs](https://ai.google.dev/gemini-api/docs/api-key).\n",
    "\n",
    "To make the key available through Kaggle secrets, choose `Secrets` from the `Add-ons` menu and follow the instructions to add your key or enable it for this notebook."
   ]
  },
  {
   "cell_type": "code",
   "execution_count": 4,
   "id": "d74c7eaa",
   "metadata": {
    "execution": {
     "iopub.execute_input": "2025-04-07T05:29:27.876638Z",
     "iopub.status.busy": "2025-04-07T05:29:27.876045Z",
     "iopub.status.idle": "2025-04-07T05:29:28.495036Z",
     "shell.execute_reply": "2025-04-07T05:29:28.493940Z"
    },
    "id": "VuJPY3GK2SLZ",
    "papermill": {
     "duration": 0.630797,
     "end_time": "2025-04-07T05:29:28.497669",
     "exception": false,
     "start_time": "2025-04-07T05:29:27.866872",
     "status": "completed"
    },
    "tags": []
   },
   "outputs": [],
   "source": [
    "from kaggle_secrets import UserSecretsClient\n",
    "\n",
    "GOOGLE_API_KEY = UserSecretsClient().get_secret(\"GOOGLE_API_KEY\")\n",
    "\n",
    "client = genai.Client(api_key=GOOGLE_API_KEY)"
   ]
  },
  {
   "attachments": {
    "53e1d527-de81-497e-bfac-58df458e750b.png": {
     "image/png": "[encoded data removed]"
    }
   },
   "cell_type": "markdown",
   "id": "8562b1be",
   "metadata": {
    "id": "25b2127c2052",
    "papermill": {
     "duration": 0.007627,
     "end_time": "2025-04-07T05:29:28.513404",
     "exception": false,
     "start_time": "2025-04-07T05:29:28.505777",
     "status": "completed"
    },
    "tags": []
   },
   "source": [
    "If you received an error response along the lines of `No user secrets exist for kernel id ...`, then you need to add your API key via `Add-ons`, `Secrets` **and** enable it.\n",
    "\n",
    "![Screenshot of the checkbox to enable GOOGLE_API_KEY secret](https://storage.googleapis.com/kaggle-media/Images/5gdai_sc_3.png)"
   ]
  },
  {
   "cell_type": "markdown",
   "id": "b7678f54",
   "metadata": {
    "id": "CqVA5QFO6n4z",
    "papermill": {
     "duration": 0.008059,
     "end_time": "2025-04-07T05:29:28.530099",
     "exception": false,
     "start_time": "2025-04-07T05:29:28.522040",
     "status": "completed"
    },
    "tags": []
   },
   "source": [
    "### Explore available models\n",
    "\n",
    "You will be using the [`TunedModel.create`](https://ai.google.dev/api/tuning#method:-tunedmodels.create) API method to start the fine-tuning job and create your custom model. Find a model that supports it through the [`models.list`](https://ai.google.dev/api/models#method:-models.list) endpoint. You can also find more information about tuning models in [the model tuning docs](https://ai.google.dev/gemini-api/docs/model-tuning/tutorial?lang=python)."
   ]
  },
  {
   "cell_type": "code",
   "execution_count": 5,
   "id": "bfdf548a",
   "metadata": {
    "execution": {
     "iopub.execute_input": "2025-04-07T05:29:28.548871Z",
     "iopub.status.busy": "2025-04-07T05:29:28.548104Z",
     "iopub.status.idle": "2025-04-07T05:29:29.492408Z",
     "shell.execute_reply": "2025-04-07T05:29:29.491341Z"
    },
    "id": "coEacWAB6o0G",
    "papermill": {
     "duration": 0.955792,
     "end_time": "2025-04-07T05:29:29.494702",
     "exception": false,
     "start_time": "2025-04-07T05:29:28.538910",
     "status": "completed"
    },
    "tags": []
   },
   "outputs": [
    {
     "name": "stdout",
     "output_type": "stream",
     "text": [
      "models/gemini-1.5-flash-001-tuning\n"
     ]
    }
   ],
   "source": [
    "for model in client.models.list():\n",
    "    if \"createTunedModel\" in model.supported_actions:\n",
    "        print(model.name)"
   ]
  },
  {
   "cell_type": "markdown",
   "id": "a9bdcdf5",
   "metadata": {
    "id": "peFm0w_0c1CO",
    "papermill": {
     "duration": 0.008254,
     "end_time": "2025-04-07T05:29:29.511495",
     "exception": false,
     "start_time": "2025-04-07T05:29:29.503241",
     "status": "completed"
    },
    "tags": []
   },
   "source": [
    "## Download the dataset\n",
    "\n",
    "In this activity, you will use the same newsgroups dataset that [you used to train a classifier in Keras](https://www.kaggle.com/code/markishere/day-2-classifying-embeddings-with-keras/). In this example you will use a fine-tuned Gemini model to achieve the same goal.\n",
    "\n",
    "The [20 Newsgroups Text Dataset](https://scikit-learn.org/0.19/datasets/twenty_newsgroups.html) contains 18,000 newsgroups posts on 20 topics divided into training and test sets."
   ]
  },
  {
   "cell_type": "code",
   "execution_count": 6,
   "id": "34639c22",
   "metadata": {
    "execution": {
     "iopub.execute_input": "2025-04-07T05:29:29.528772Z",
     "iopub.status.busy": "2025-04-07T05:29:29.528359Z",
     "iopub.status.idle": "2025-04-07T05:29:43.734139Z",
     "shell.execute_reply": "2025-04-07T05:29:43.732861Z"
    },
    "id": "bX_kpgnQ9b-Z",
    "papermill": {
     "duration": 14.217171,
     "end_time": "2025-04-07T05:29:43.736626",
     "exception": false,
     "start_time": "2025-04-07T05:29:29.519455",
     "status": "completed"
    },
    "tags": []
   },
   "outputs": [
    {
     "data": {
      "text/plain": [
       "['alt.atheism',\n",
       " 'comp.graphics',\n",
       " 'comp.os.ms-windows.misc',\n",
       " 'comp.sys.ibm.pc.hardware',\n",
       " 'comp.sys.mac.hardware',\n",
       " 'comp.windows.x',\n",
       " 'misc.forsale',\n",
       " 'rec.autos',\n",
       " 'rec.motorcycles',\n",
       " 'rec.sport.baseball',\n",
       " 'rec.sport.hockey',\n",
       " 'sci.crypt',\n",
       " 'sci.electronics',\n",
       " 'sci.med',\n",
       " 'sci.space',\n",
       " 'soc.religion.christian',\n",
       " 'talk.politics.guns',\n",
       " 'talk.politics.mideast',\n",
       " 'talk.politics.misc',\n",
       " 'talk.religion.misc']"
      ]
     },
     "execution_count": 6,
     "metadata": {},
     "output_type": "execute_result"
    }
   ],
   "source": [
    "from sklearn.datasets import fetch_20newsgroups\n",
    "\n",
    "newsgroups_train = fetch_20newsgroups(subset=\"train\")\n",
    "newsgroups_test = fetch_20newsgroups(subset=\"test\")\n",
    "\n",
    "# View list of class names for dataset\n",
    "newsgroups_train.target_names"
   ]
  },
  {
   "cell_type": "markdown",
   "id": "960de114",
   "metadata": {
    "id": "ipafe6ptZFjt",
    "papermill": {
     "duration": 0.007841,
     "end_time": "2025-04-07T05:29:43.752817",
     "exception": false,
     "start_time": "2025-04-07T05:29:43.744976",
     "status": "completed"
    },
    "tags": []
   },
   "source": [
    "Here's what a single row looks like."
   ]
  },
  {
   "cell_type": "code",
   "execution_count": 7,
   "id": "9319aa45",
   "metadata": {
    "execution": {
     "iopub.execute_input": "2025-04-07T05:29:43.770878Z",
     "iopub.status.busy": "2025-04-07T05:29:43.770490Z",
     "iopub.status.idle": "2025-04-07T05:29:43.776189Z",
     "shell.execute_reply": "2025-04-07T05:29:43.775038Z"
    },
    "id": "EtEXcdT39hCB",
    "papermill": {
     "duration": 0.017935,
     "end_time": "2025-04-07T05:29:43.778880",
     "exception": false,
     "start_time": "2025-04-07T05:29:43.760945",
     "status": "completed"
    },
    "tags": []
   },
   "outputs": [
    {
     "name": "stdout",
     "output_type": "stream",
     "text": [
      "From: lerxst@wam.umd.edu (where's my thing)\n",
      "Subject: WHAT car is this!?\n",
      "Nntp-Posting-Host: rac3.wam.umd.edu\n",
      "Organization: University of Maryland, College Park\n",
      "Lines: 15\n",
      "\n",
      " I was wondering if anyone out there could enlighten me on this car I saw\n",
      "the other day. It was a 2-door sports car, looked to be from the late 60s/\n",
      "early 70s. It was called a Bricklin. The doors were really small. In addition,\n",
      "the front bumper was separate from the rest of the body. This is \n",
      "all I know. If anyone can tellme a model name, engine specs, years\n",
      "of production, where this car is made, history, or whatever info you\n",
      "have on this funky looking car, please e-mail.\n",
      "\n",
      "Thanks,\n",
      "- IL\n",
      "   ---- brought to you by your neighborhood Lerxst ----\n",
      "\n",
      "\n",
      "\n",
      "\n",
      "\n"
     ]
    }
   ],
   "source": [
    "print(newsgroups_train.data[0])"
   ]
  },
  {
   "cell_type": "markdown",
   "id": "c3231cdf",
   "metadata": {
    "id": "03lDs1O4ZQ0-",
    "papermill": {
     "duration": 0.007966,
     "end_time": "2025-04-07T05:29:43.795119",
     "exception": false,
     "start_time": "2025-04-07T05:29:43.787153",
     "status": "completed"
    },
    "tags": []
   },
   "source": [
    "## Prepare the dataset\n",
    "\n",
    "You'll use the same pre-processing code you used for the custom model on day 2. This pre-processing removes personal information, which can be used to \"shortcut\" to known users of a forum, and formats the text to appear a bit more like regular text and less like a newsgroup post (e.g. by removing the mail headers). This normalisation allows the model to generalise to regular text and not over-depend on specific fields. If your input data is always going to be newsgroup posts, it may be helpful to leave this structure in place if they provide genuine signals."
   ]
  },
  {
   "cell_type": "code",
   "execution_count": 8,
   "id": "9e823581",
   "metadata": {
    "execution": {
     "iopub.execute_input": "2025-04-07T05:29:43.813320Z",
     "iopub.status.busy": "2025-04-07T05:29:43.812819Z",
     "iopub.status.idle": "2025-04-07T05:29:44.669291Z",
     "shell.execute_reply": "2025-04-07T05:29:44.668329Z"
    },
    "id": "IoNYTxpoZgB0",
    "papermill": {
     "duration": 0.86831,
     "end_time": "2025-04-07T05:29:44.671717",
     "exception": false,
     "start_time": "2025-04-07T05:29:43.803407",
     "status": "completed"
    },
    "tags": []
   },
   "outputs": [],
   "source": [
    "import email\n",
    "import re\n",
    "\n",
    "import pandas as pd\n",
    "\n",
    "\n",
    "def preprocess_newsgroup_row(data):\n",
    "    # Extract only the subject and body\n",
    "    msg = email.message_from_string(data)\n",
    "    text = f\"{msg['Subject']}\\n\\n{msg.get_payload()}\"\n",
    "    # Strip any remaining email addresses\n",
    "    text = re.sub(r\"[\\w\\.-]+@[\\w\\.-]+\", \"\", text)\n",
    "    # Truncate the text to fit within the input limits\n",
    "    text = text[:40000]\n",
    "\n",
    "    return text\n",
    "\n",
    "\n",
    "def preprocess_newsgroup_data(newsgroup_dataset):\n",
    "    # Put data points into dataframe\n",
    "    df = pd.DataFrame(\n",
    "        {\"Text\": newsgroup_dataset.data, \"Label\": newsgroup_dataset.target}\n",
    "    )\n",
    "    # Clean up the text\n",
    "    df[\"Text\"] = df[\"Text\"].apply(preprocess_newsgroup_row)\n",
    "    # Match label to target name index\n",
    "    df[\"Class Name\"] = df[\"Label\"].map(lambda l: newsgroup_dataset.target_names[l])\n",
    "\n",
    "    return df"
   ]
  },
  {
   "cell_type": "code",
   "execution_count": 9,
   "id": "4b7d63e4",
   "metadata": {
    "execution": {
     "iopub.execute_input": "2025-04-07T05:29:44.690105Z",
     "iopub.status.busy": "2025-04-07T05:29:44.689507Z",
     "iopub.status.idle": "2025-04-07T05:29:48.395287Z",
     "shell.execute_reply": "2025-04-07T05:29:48.393978Z"
    },
    "id": "kvOsUSRWaW4g",
    "papermill": {
     "duration": 3.718633,
     "end_time": "2025-04-07T05:29:48.398619",
     "exception": false,
     "start_time": "2025-04-07T05:29:44.679986",
     "status": "completed"
    },
    "tags": []
   },
   "outputs": [
    {
     "data": {
      "text/html": [
       "<div>\n",
       "<style scoped>\n",
       "    .dataframe tbody tr th:only-of-type {\n",
       "        vertical-align: middle;\n",
       "    }\n",
       "\n",
       "    .dataframe tbody tr th {\n",
       "        vertical-align: top;\n",
       "    }\n",
       "\n",
       "    .dataframe thead th {\n",
       "        text-align: right;\n",
       "    }\n",
       "</style>\n",
       "<table border=\"1\" class=\"dataframe\">\n",
       "  <thead>\n",
       "    <tr style=\"text-align: right;\">\n",
       "      <th></th>\n",
       "      <th>Text</th>\n",
       "      <th>Label</th>\n",
       "      <th>Class Name</th>\n",
       "    </tr>\n",
       "  </thead>\n",
       "  <tbody>\n",
       "    <tr>\n",
       "      <th>0</th>\n",
       "      <td>WHAT car is this!?\\n\\n I was wondering if anyo...</td>\n",
       "      <td>7</td>\n",
       "      <td>rec.autos</td>\n",
       "    </tr>\n",
       "    <tr>\n",
       "      <th>1</th>\n",
       "      <td>SI Clock Poll - Final Call\\n\\nA fair number of...</td>\n",
       "      <td>4</td>\n",
       "      <td>comp.sys.mac.hardware</td>\n",
       "    </tr>\n",
       "    <tr>\n",
       "      <th>2</th>\n",
       "      <td>PB questions...\\n\\nwell folks, my mac plus fin...</td>\n",
       "      <td>4</td>\n",
       "      <td>comp.sys.mac.hardware</td>\n",
       "    </tr>\n",
       "    <tr>\n",
       "      <th>3</th>\n",
       "      <td>Re: Weitek P9000 ?\\n\\nRobert J.C. Kyanko () wr...</td>\n",
       "      <td>1</td>\n",
       "      <td>comp.graphics</td>\n",
       "    </tr>\n",
       "    <tr>\n",
       "      <th>4</th>\n",
       "      <td>Re: Shuttle Launch Question\\n\\nFrom article &lt;&gt;...</td>\n",
       "      <td>14</td>\n",
       "      <td>sci.space</td>\n",
       "    </tr>\n",
       "  </tbody>\n",
       "</table>\n",
       "</div>"
      ],
      "text/plain": [
       "                                                Text  Label  \\\n",
       "0  WHAT car is this!?\\n\\n I was wondering if anyo...      7   \n",
       "1  SI Clock Poll - Final Call\\n\\nA fair number of...      4   \n",
       "2  PB questions...\\n\\nwell folks, my mac plus fin...      4   \n",
       "3  Re: Weitek P9000 ?\\n\\nRobert J.C. Kyanko () wr...      1   \n",
       "4  Re: Shuttle Launch Question\\n\\nFrom article <>...     14   \n",
       "\n",
       "              Class Name  \n",
       "0              rec.autos  \n",
       "1  comp.sys.mac.hardware  \n",
       "2  comp.sys.mac.hardware  \n",
       "3          comp.graphics  \n",
       "4              sci.space  "
      ]
     },
     "execution_count": 9,
     "metadata": {},
     "output_type": "execute_result"
    }
   ],
   "source": [
    "# Apply preprocessing to training and test datasets\n",
    "df_train = preprocess_newsgroup_data(newsgroups_train)\n",
    "df_test = preprocess_newsgroup_data(newsgroups_test)\n",
    "\n",
    "df_train.head()"
   ]
  },
  {
   "cell_type": "markdown",
   "id": "13f7fd5d",
   "metadata": {
    "id": "XSKcj5WtadaR",
    "papermill": {
     "duration": 0.009621,
     "end_time": "2025-04-07T05:29:48.418857",
     "exception": false,
     "start_time": "2025-04-07T05:29:48.409236",
     "status": "completed"
    },
    "tags": []
   },
   "source": [
    "Now sample the data. You will keep 50 rows for each category for training. Note that this is even fewer than the Keras example, as this technique (parameter-efficient fine-tuning, or PEFT) updates a relatively small number of parameters and does not require training a new model or updating the large model."
   ]
  },
  {
   "cell_type": "code",
   "execution_count": 10,
   "id": "822b6fe5",
   "metadata": {
    "execution": {
     "iopub.execute_input": "2025-04-07T05:29:48.437633Z",
     "iopub.status.busy": "2025-04-07T05:29:48.437154Z",
     "iopub.status.idle": "2025-04-07T05:29:48.486293Z",
     "shell.execute_reply": "2025-04-07T05:29:48.485136Z"
    },
    "id": "0t9Xu6X5akkt",
    "papermill": {
     "duration": 0.06118,
     "end_time": "2025-04-07T05:29:48.488769",
     "exception": false,
     "start_time": "2025-04-07T05:29:48.427589",
     "status": "completed"
    },
    "tags": []
   },
   "outputs": [],
   "source": [
    "def sample_data(df, num_samples, classes_to_keep):\n",
    "    # Sample rows, selecting num_samples of each Label.\n",
    "    df = (\n",
    "        df.groupby(\"Label\")[df.columns]\n",
    "        .apply(lambda x: x.sample(num_samples))\n",
    "        .reset_index(drop=True)\n",
    "    )\n",
    "\n",
    "    df = df[df[\"Class Name\"].str.contains(classes_to_keep)]\n",
    "    df[\"Class Name\"] = df[\"Class Name\"].astype(\"category\")\n",
    "\n",
    "    return df\n",
    "\n",
    "\n",
    "TRAIN_NUM_SAMPLES = 50\n",
    "TEST_NUM_SAMPLES = 10\n",
    "# Keep rec.* and sci.*\n",
    "CLASSES_TO_KEEP = \"^rec|^sci\"\n",
    "\n",
    "df_train = sample_data(df_train, TRAIN_NUM_SAMPLES, CLASSES_TO_KEEP)\n",
    "df_test = sample_data(df_test, TEST_NUM_SAMPLES, CLASSES_TO_KEEP)"
   ]
  },
  {
   "cell_type": "markdown",
   "id": "17adbfaf",
   "metadata": {
    "papermill": {
     "duration": 0.007996,
     "end_time": "2025-04-07T05:29:48.505122",
     "exception": false,
     "start_time": "2025-04-07T05:29:48.497126",
     "status": "completed"
    },
    "tags": []
   },
   "source": [
    "## Evaluate baseline performance\n",
    "\n",
    "Before you start tuning a model, it's good practice to perform an evaluation on the available models to ensure you can measure how much the tuning helps.\n",
    "\n",
    "First identify a single sample row to use for visual inspection."
   ]
  },
  {
   "cell_type": "code",
   "execution_count": 11,
   "id": "7c49333e",
   "metadata": {
    "execution": {
     "iopub.execute_input": "2025-04-07T05:29:48.523463Z",
     "iopub.status.busy": "2025-04-07T05:29:48.523047Z",
     "iopub.status.idle": "2025-04-07T05:29:48.529641Z",
     "shell.execute_reply": "2025-04-07T05:29:48.528490Z"
    },
    "papermill": {
     "duration": 0.018898,
     "end_time": "2025-04-07T05:29:48.532355",
     "exception": false,
     "start_time": "2025-04-07T05:29:48.513457",
     "status": "completed"
    },
    "tags": []
   },
   "outputs": [
    {
     "name": "stdout",
     "output_type": "stream",
     "text": [
      "Need info on 88-89 Bonneville\n",
      "\n",
      "\n",
      " I am a little confused on all of the models of the 88-89 bonnevilles.\n",
      "I have heard of the LE SE LSE SSE SSEI. Could someone tell me the\n",
      "differences are far as features or performance. I am also curious to\n",
      "know what the book value is for prefereably the 89 model. And how much\n",
      "less than book value can you usually get them for. In other words how\n",
      "much are they in demand this time of year. I have heard that the mid-spring\n",
      "early summer is the best time to buy.\n",
      "\n",
      "\t\t\tNeil Gandler\n",
      "\n",
      "---\n",
      "Label: rec.autos\n"
     ]
    }
   ],
   "source": [
    "sample_idx = 0\n",
    "sample_row = preprocess_newsgroup_row(newsgroups_test.data[sample_idx])\n",
    "sample_label = newsgroups_test.target_names[newsgroups_test.target[sample_idx]]\n",
    "\n",
    "print(sample_row)\n",
    "print('---')\n",
    "print('Label:', sample_label)"
   ]
  },
  {
   "cell_type": "markdown",
   "id": "722eea6e",
   "metadata": {
    "papermill": {
     "duration": 0.008193,
     "end_time": "2025-04-07T05:29:48.549420",
     "exception": false,
     "start_time": "2025-04-07T05:29:48.541227",
     "status": "completed"
    },
    "tags": []
   },
   "source": [
    "Passing the text directly in as a prompt does not yield the desired results. The model will attempt to respond to the message."
   ]
  },
  {
   "cell_type": "code",
   "execution_count": 12,
   "id": "06b65401",
   "metadata": {
    "execution": {
     "iopub.execute_input": "2025-04-07T05:29:48.567652Z",
     "iopub.status.busy": "2025-04-07T05:29:48.567253Z",
     "iopub.status.idle": "2025-04-07T05:29:52.761688Z",
     "shell.execute_reply": "2025-04-07T05:29:52.760354Z"
    },
    "papermill": {
     "duration": 4.206374,
     "end_time": "2025-04-07T05:29:52.764212",
     "exception": false,
     "start_time": "2025-04-07T05:29:48.557838",
     "status": "completed"
    },
    "tags": []
   },
   "outputs": [
    {
     "name": "stdout",
     "output_type": "stream",
     "text": [
      "You're right, there were a lot of Bonneville trims in 1988-1989! Let's break them down:\n",
      "\n",
      "**1988-1989 Bonneville Trim Levels:**\n",
      "\n",
      "* **Base:** The standard Bonneville. Usually came with a 3.8L V6 and a 4-speed automatic transmission. Could be had with cloth or vinyl interiors.\n",
      "* **LE (Luxury Edition):**  Added more luxurious features like velour upholstery, power windows, power locks, air conditioning, and a more luxurious interior.\n",
      "* **SE (Special Edition):** This trim level focused on performance, with a 3.8L V6 producing more horsepower, sport suspension, and a sporty appearance.\n",
      "* **LSE (Luxury Special Edition):** Combined the luxurious features of the LE with the performance enhancements of the SE.\n",
      "* **SSE (Sport Sedan Edition):**  The top-of-the-line Bonneville, with a 3.8L V6 pushing over 200 horsepower, a sport suspension, and a distinctive, sporty exterior.\n",
      "* **SSEi (Sport Sedan Edition Injected):**  The rarest of the Bonnevilles. It featured a fuel-injected 3.8L V6, resulting in even more horsepower and better fuel economy.\n",
      "\n",
      "**Book Value and Prices:**\n",
      "\n",
      "* **KBB (Kelley Blue Book):**  A great place to start is Kelley Blue Book ([https://www.kbb.com/](https://www.kbb.com/)). You can find estimates for a 1989 Bonneville based on its condition, mileage, and specific trim level. \n",
      "* **Edmunds:**  Another popular source for car values is Edmunds ([https://www.edmunds.com/](https://www.edmunds.com/)).\n",
      "* **NADA (National Automobile Dealers Association):** NADA offers pricing guides for used cars, and you can often find their data on car buying websites.\n",
      "\n",
      "**Typical Negotiation:**\n",
      "\n",
      "* **Negotiation is key:**  You can usually negotiate a price lower than book value, especially if you find a seller who's motivated.\n",
      "* **Mid-spring to early summer:** This is generally a good time to buy used cars, as dealers are looking to clear out inventory before the summer driving season.\n",
      "\n",
      "**Additional Tips:**\n",
      "\n",
      "* **Condition Matters:**  The condition of the car is crucial. Look for one with low mileage, a clean title, and evidence of regular maintenance.\n",
      "* **Test Drive:**  Always take a thorough test drive to check for any issues or concerns.\n",
      "* **Inspection:**  Consider having a mechanic inspect the car before you buy it.\n",
      "\n",
      "**Final Thoughts:**\n",
      "\n",
      "The 1988-1989 Bonneville offers a classic American muscle car look, but it's important to do your research and understand the different trim levels to find the one that best suits your needs and budget. \n",
      "\n"
     ]
    }
   ],
   "source": [
    "response = client.models.generate_content(\n",
    "    model=\"gemini-1.5-flash-001\", contents=sample_row)\n",
    "print(response.text)"
   ]
  },
  {
   "cell_type": "markdown",
   "id": "c9bb88dd",
   "metadata": {
    "papermill": {
     "duration": 0.008715,
     "end_time": "2025-04-07T05:29:52.781888",
     "exception": false,
     "start_time": "2025-04-07T05:29:52.773173",
     "status": "completed"
    },
    "tags": []
   },
   "source": [
    "You can use the prompt engineering techniques you have learned this week to induce the model to perform the desired task. Try some of your own ideas and see what is effective, or check out the following cells for different approaches. Note that they have different levels of effectiveness!"
   ]
  },
  {
   "cell_type": "code",
   "execution_count": 13,
   "id": "be814ac2",
   "metadata": {
    "execution": {
     "iopub.execute_input": "2025-04-07T05:29:52.800962Z",
     "iopub.status.busy": "2025-04-07T05:29:52.800589Z",
     "iopub.status.idle": "2025-04-07T05:29:54.064250Z",
     "shell.execute_reply": "2025-04-07T05:29:54.063136Z"
    },
    "papermill": {
     "duration": 1.276036,
     "end_time": "2025-04-07T05:29:54.066608",
     "exception": false,
     "start_time": "2025-04-07T05:29:52.790572",
     "status": "completed"
    },
    "tags": []
   },
   "outputs": [
    {
     "name": "stdout",
     "output_type": "stream",
     "text": [
      "Based on the content and style of the message, it most likely originates from a newsgroup related to **Buick cars**, specifically **Bonneville models**.  \n",
      "\n",
      "Here's why:\n",
      "\n",
      "* **Subject Matter:** The message focuses on specific Buick Bonneville models (LE, SE, LSE, SSE, SSEi) and their features, performance, and value. This indicates an interest in Buick Bonnevilles.\n",
      "* **Language:** The message uses terms commonly associated with car enthusiasts and collectors, like \"book value,\" \"demand,\" and \"best time to buy.\"\n",
      "* **Audience:** The message is addressed to a group of people likely to be familiar with Buick Bonneville models and their nuances.\n",
      "\n",
      "Therefore, the most probable newsgroup is **alt.autos.buick** or a similar one dedicated to Buick vehicles. \n",
      "\n"
     ]
    }
   ],
   "source": [
    "# Ask the model directly in a zero-shot prompt.\n",
    "\n",
    "prompt = \"From what newsgroup does the following message originate?\"\n",
    "baseline_response = client.models.generate_content(\n",
    "    model=\"gemini-1.5-flash-001\",\n",
    "    contents=[prompt, sample_row])\n",
    "print(baseline_response.text)"
   ]
  },
  {
   "cell_type": "markdown",
   "id": "aef16a30",
   "metadata": {
    "papermill": {
     "duration": 0.008252,
     "end_time": "2025-04-07T05:29:54.083397",
     "exception": false,
     "start_time": "2025-04-07T05:29:54.075145",
     "status": "completed"
    },
    "tags": []
   },
   "source": [
    "This technique still produces quite a verbose response. You could try and parse out the relevant text, or refine the prompt even further."
   ]
  },
  {
   "cell_type": "code",
   "execution_count": 14,
   "id": "09d2c743",
   "metadata": {
    "execution": {
     "iopub.execute_input": "2025-04-07T05:29:54.102393Z",
     "iopub.status.busy": "2025-04-07T05:29:54.102012Z",
     "iopub.status.idle": "2025-04-07T05:29:54.749043Z",
     "shell.execute_reply": "2025-04-07T05:29:54.747529Z"
    },
    "papermill": {
     "duration": 0.659295,
     "end_time": "2025-04-07T05:29:54.751419",
     "exception": false,
     "start_time": "2025-04-07T05:29:54.092124",
     "status": "completed"
    },
    "tags": []
   },
   "outputs": [
    {
     "name": "stdout",
     "output_type": "stream",
     "text": [
      "rec.autos.misc\n",
      "\n",
      "Incorrect.\n"
     ]
    }
   ],
   "source": [
    "from google.api_core import retry\n",
    "\n",
    "# You can use a system instruction to do more direct prompting, and get a\n",
    "# more succinct answer.\n",
    "\n",
    "system_instruct = \"\"\"\n",
    "You are a classification service. You will be passed input that represents\n",
    "a newsgroup post and you must respond with the newsgroup from which the post\n",
    "originates.\n",
    "\"\"\"\n",
    "\n",
    "# Define a helper to retry when per-minute quota is reached.\n",
    "is_retriable = lambda e: (isinstance(e, genai.errors.APIError) and e.code in {429, 503})\n",
    "\n",
    "# If you want to evaluate your own technique, replace this body of this function\n",
    "# with your model, prompt and other code and return the predicted answer.\n",
    "@retry.Retry(predicate=is_retriable)\n",
    "def predict_label(post: str) -> str:\n",
    "    response = client.models.generate_content(\n",
    "        model=\"gemini-1.5-flash-001\",\n",
    "        config=types.GenerateContentConfig(\n",
    "            system_instruction=system_instruct),\n",
    "        contents=post)\n",
    "\n",
    "    rc = response.candidates[0]\n",
    "\n",
    "    # Any errors, filters, recitation, etc we can mark as a general error\n",
    "    if rc.finish_reason.name != \"STOP\":\n",
    "        return \"(error)\"\n",
    "    else:\n",
    "        # Clean up the response.\n",
    "        return response.text.strip()\n",
    "\n",
    "\n",
    "prediction = predict_label(sample_row)\n",
    "\n",
    "print(prediction)\n",
    "print()\n",
    "print(\"Correct!\" if prediction == sample_label else \"Incorrect.\")"
   ]
  },
  {
   "cell_type": "markdown",
   "id": "98768f69",
   "metadata": {
    "papermill": {
     "duration": 0.008933,
     "end_time": "2025-04-07T05:29:54.769311",
     "exception": false,
     "start_time": "2025-04-07T05:29:54.760378",
     "status": "completed"
    },
    "tags": []
   },
   "source": [
    "Now run a short evaluation using the function defined above. The test set is further sampled to ensure the experiment runs smoothly on the API's free tier. In practice you would evaluate over the whole set."
   ]
  },
  {
   "cell_type": "code",
   "execution_count": 15,
   "id": "1397809f",
   "metadata": {
    "execution": {
     "iopub.execute_input": "2025-04-07T05:29:54.788923Z",
     "iopub.status.busy": "2025-04-07T05:29:54.788549Z",
     "iopub.status.idle": "2025-04-07T05:30:52.594746Z",
     "shell.execute_reply": "2025-04-07T05:30:52.593365Z"
    },
    "papermill": {
     "duration": 57.819679,
     "end_time": "2025-04-07T05:30:52.598040",
     "exception": false,
     "start_time": "2025-04-07T05:29:54.778361",
     "status": "completed"
    },
    "tags": []
   },
   "outputs": [
    {
     "data": {
      "application/vnd.jupyter.widget-view+json": {
       "model_id": "a73c5de16bad46ff9e1ca787d3810a7d",
       "version_major": 2,
       "version_minor": 0
      },
      "text/plain": [
       "Output()"
      ]
     },
     "metadata": {},
     "output_type": "display_data"
    },
    {
     "data": {
      "text/html": [
       "<pre style=\"white-space:pre;overflow-x:auto;line-height:normal;font-family:Menlo,'DejaVu Sans Mono',consolas,'Courier New',monospace\"></pre>\n"
      ],
      "text/plain": []
     },
     "metadata": {},
     "output_type": "display_data"
    },
    {
     "data": {
      "text/html": [
       "<pre style=\"white-space:pre;overflow-x:auto;line-height:normal;font-family:Menlo,'DejaVu Sans Mono',consolas,'Courier New',monospace\">\n",
       "</pre>\n"
      ],
      "text/plain": [
       "\n"
      ]
     },
     "metadata": {},
     "output_type": "display_data"
    },
    {
     "name": "stdout",
     "output_type": "stream",
     "text": [
      "Accuracy: 18.75%\n"
     ]
    }
   ],
   "source": [
    "import tqdm\n",
    "from tqdm.rich import tqdm as tqdmr\n",
    "import warnings\n",
    "\n",
    "# Enable tqdm features on Pandas.\n",
    "tqdmr.pandas()\n",
    "\n",
    "# But suppress the experimental warning\n",
    "warnings.filterwarnings(\"ignore\", category=tqdm.TqdmExperimentalWarning)\n",
    "\n",
    "\n",
    "# Further sample the test data to be mindful of the free-tier quota.\n",
    "df_baseline_eval = sample_data(df_test, 2, '.*')\n",
    "\n",
    "# Make predictions using the sampled data.\n",
    "df_baseline_eval['Prediction'] = df_baseline_eval['Text'].progress_apply(predict_label)\n",
    "\n",
    "# And calculate the accuracy.\n",
    "accuracy = (df_baseline_eval[\"Class Name\"] == df_baseline_eval[\"Prediction\"]).sum() / len(df_baseline_eval)\n",
    "print(f\"Accuracy: {accuracy:.2%}\")"
   ]
  },
  {
   "cell_type": "markdown",
   "id": "0bb5895a",
   "metadata": {
    "papermill": {
     "duration": 0.012061,
     "end_time": "2025-04-07T05:30:52.623763",
     "exception": false,
     "start_time": "2025-04-07T05:30:52.611702",
     "status": "completed"
    },
    "tags": []
   },
   "source": [
    "Now take a look at the dataframe to compare the predictions with the labels."
   ]
  },
  {
   "cell_type": "code",
   "execution_count": 16,
   "id": "e59d37aa",
   "metadata": {
    "execution": {
     "iopub.execute_input": "2025-04-07T05:30:54.474823Z",
     "iopub.status.busy": "2025-04-07T05:30:54.474402Z",
     "iopub.status.idle": "2025-04-07T05:30:54.489662Z",
     "shell.execute_reply": "2025-04-07T05:30:54.488110Z"
    },
    "papermill": {
     "duration": 1.856684,
     "end_time": "2025-04-07T05:30:54.492315",
     "exception": false,
     "start_time": "2025-04-07T05:30:52.635631",
     "status": "completed"
    },
    "tags": []
   },
   "outputs": [
    {
     "data": {
      "text/html": [
       "<div>\n",
       "<style scoped>\n",
       "    .dataframe tbody tr th:only-of-type {\n",
       "        vertical-align: middle;\n",
       "    }\n",
       "\n",
       "    .dataframe tbody tr th {\n",
       "        vertical-align: top;\n",
       "    }\n",
       "\n",
       "    .dataframe thead th {\n",
       "        text-align: right;\n",
       "    }\n",
       "</style>\n",
       "<table border=\"1\" class=\"dataframe\">\n",
       "  <thead>\n",
       "    <tr style=\"text-align: right;\">\n",
       "      <th></th>\n",
       "      <th>Text</th>\n",
       "      <th>Label</th>\n",
       "      <th>Class Name</th>\n",
       "      <th>Prediction</th>\n",
       "    </tr>\n",
       "  </thead>\n",
       "  <tbody>\n",
       "    <tr>\n",
       "      <th>0</th>\n",
       "      <td>Pennsylvania Insurance, Limited Tort Option\\n\\...</td>\n",
       "      <td>7</td>\n",
       "      <td>rec.autos</td>\n",
       "      <td>rec.autos.misc</td>\n",
       "    </tr>\n",
       "    <tr>\n",
       "      <th>1</th>\n",
       "      <td>Re: V4 V6 V8 V12 Vx?\\n\\nIn article &lt;&gt;  (Brian ...</td>\n",
       "      <td>7</td>\n",
       "      <td>rec.autos</td>\n",
       "      <td>rec.autos.sports.cars</td>\n",
       "    </tr>\n",
       "    <tr>\n",
       "      <th>2</th>\n",
       "      <td>Re: Need advice for riding with someone on pil...</td>\n",
       "      <td>8</td>\n",
       "      <td>rec.motorcycles</td>\n",
       "      <td>rec.motorcycles</td>\n",
       "    </tr>\n",
       "    <tr>\n",
       "      <th>3</th>\n",
       "      <td>Re: Ok, So I was a little hasty...\\n\\nIn artic...</td>\n",
       "      <td>8</td>\n",
       "      <td>rec.motorcycles</td>\n",
       "      <td>rec.food.recipes</td>\n",
       "    </tr>\n",
       "    <tr>\n",
       "      <th>4</th>\n",
       "      <td>Re: Let's play the name game!\\n\\n&gt;San Francisc...</td>\n",
       "      <td>9</td>\n",
       "      <td>rec.sport.baseball</td>\n",
       "      <td>rec.sport.baseball</td>\n",
       "    </tr>\n",
       "    <tr>\n",
       "      <th>5</th>\n",
       "      <td>Ray Lankford question...\\n\\nDoes anybody know ...</td>\n",
       "      <td>9</td>\n",
       "      <td>rec.sport.baseball</td>\n",
       "      <td>rec.sport.baseball</td>\n",
       "    </tr>\n",
       "    <tr>\n",
       "      <th>6</th>\n",
       "      <td>Re: ABC coverage\\n\\nIn article &lt;&gt;  (Ravindra S...</td>\n",
       "      <td>10</td>\n",
       "      <td>rec.sport.hockey</td>\n",
       "      <td>rec.sports.hockey</td>\n",
       "    </tr>\n",
       "    <tr>\n",
       "      <th>7</th>\n",
       "      <td>Re: BUFFALO 4, Boston 0: Defense!!\\n &lt;&gt;\\n &lt;1r4...</td>\n",
       "      <td>10</td>\n",
       "      <td>rec.sport.hockey</td>\n",
       "      <td>hockey.game.nhl</td>\n",
       "    </tr>\n",
       "    <tr>\n",
       "      <th>8</th>\n",
       "      <td>Re: Once they get your keys....\\n\\nAbout 50 pe...</td>\n",
       "      <td>11</td>\n",
       "      <td>sci.crypt</td>\n",
       "      <td>(error)</td>\n",
       "    </tr>\n",
       "    <tr>\n",
       "      <th>9</th>\n",
       "      <td>Re: new encryption\\n\\n (Martin J Hannigan) wri...</td>\n",
       "      <td>11</td>\n",
       "      <td>sci.crypt</td>\n",
       "      <td>alt.religion.christianity</td>\n",
       "    </tr>\n",
       "    <tr>\n",
       "      <th>10</th>\n",
       "      <td>Re: ^^ Phosphorescent pads ...\\n\\n (baden de b...</td>\n",
       "      <td>12</td>\n",
       "      <td>sci.electronics</td>\n",
       "      <td>comp.sys.ibm.pc.hardware</td>\n",
       "    </tr>\n",
       "    <tr>\n",
       "      <th>11</th>\n",
       "      <td>Re: solvent for duct-tape adhesive?\\n\\n\\nI hav...</td>\n",
       "      <td>12</td>\n",
       "      <td>sci.electronics</td>\n",
       "      <td>rec.crafts.textiles</td>\n",
       "    </tr>\n",
       "    <tr>\n",
       "      <th>12</th>\n",
       "      <td>Re: Pregnency without sex?\\n\\nIn article &lt;&gt;  (...</td>\n",
       "      <td>13</td>\n",
       "      <td>sci.med</td>\n",
       "      <td>alt.atheism</td>\n",
       "    </tr>\n",
       "    <tr>\n",
       "      <th>13</th>\n",
       "      <td>Need info on Circumcision, medical cons and pr...</td>\n",
       "      <td>13</td>\n",
       "      <td>sci.med</td>\n",
       "      <td>(error)</td>\n",
       "    </tr>\n",
       "    <tr>\n",
       "      <th>14</th>\n",
       "      <td>Fax/email wanted for Louis Friedman/Planetary ...</td>\n",
       "      <td>14</td>\n",
       "      <td>sci.space</td>\n",
       "      <td>misc.education</td>\n",
       "    </tr>\n",
       "    <tr>\n",
       "      <th>15</th>\n",
       "      <td>Space surveillance: what I really meant\\n\\n   ...</td>\n",
       "      <td>14</td>\n",
       "      <td>sci.space</td>\n",
       "      <td>misc.space</td>\n",
       "    </tr>\n",
       "  </tbody>\n",
       "</table>\n",
       "</div>"
      ],
      "text/plain": [
       "                                                 Text  Label  \\\n",
       "0   Pennsylvania Insurance, Limited Tort Option\\n\\...      7   \n",
       "1   Re: V4 V6 V8 V12 Vx?\\n\\nIn article <>  (Brian ...      7   \n",
       "2   Re: Need advice for riding with someone on pil...      8   \n",
       "3   Re: Ok, So I was a little hasty...\\n\\nIn artic...      8   \n",
       "4   Re: Let's play the name game!\\n\\n>San Francisc...      9   \n",
       "5   Ray Lankford question...\\n\\nDoes anybody know ...      9   \n",
       "6   Re: ABC coverage\\n\\nIn article <>  (Ravindra S...     10   \n",
       "7   Re: BUFFALO 4, Boston 0: Defense!!\\n <>\\n <1r4...     10   \n",
       "8   Re: Once they get your keys....\\n\\nAbout 50 pe...     11   \n",
       "9   Re: new encryption\\n\\n (Martin J Hannigan) wri...     11   \n",
       "10  Re: ^^ Phosphorescent pads ...\\n\\n (baden de b...     12   \n",
       "11  Re: solvent for duct-tape adhesive?\\n\\n\\nI hav...     12   \n",
       "12  Re: Pregnency without sex?\\n\\nIn article <>  (...     13   \n",
       "13  Need info on Circumcision, medical cons and pr...     13   \n",
       "14  Fax/email wanted for Louis Friedman/Planetary ...     14   \n",
       "15  Space surveillance: what I really meant\\n\\n   ...     14   \n",
       "\n",
       "            Class Name                 Prediction  \n",
       "0            rec.autos             rec.autos.misc  \n",
       "1            rec.autos      rec.autos.sports.cars  \n",
       "2      rec.motorcycles            rec.motorcycles  \n",
       "3      rec.motorcycles           rec.food.recipes  \n",
       "4   rec.sport.baseball         rec.sport.baseball  \n",
       "5   rec.sport.baseball         rec.sport.baseball  \n",
       "6     rec.sport.hockey          rec.sports.hockey  \n",
       "7     rec.sport.hockey            hockey.game.nhl  \n",
       "8            sci.crypt                    (error)  \n",
       "9            sci.crypt  alt.religion.christianity  \n",
       "10     sci.electronics   comp.sys.ibm.pc.hardware  \n",
       "11     sci.electronics        rec.crafts.textiles  \n",
       "12             sci.med                alt.atheism  \n",
       "13             sci.med                    (error)  \n",
       "14           sci.space             misc.education  \n",
       "15           sci.space                 misc.space  "
      ]
     },
     "execution_count": 16,
     "metadata": {},
     "output_type": "execute_result"
    }
   ],
   "source": [
    "df_baseline_eval"
   ]
  },
  {
   "cell_type": "markdown",
   "id": "a3c03c39",
   "metadata": {
    "id": "Ok7ugrLzcghX",
    "papermill": {
     "duration": 0.009122,
     "end_time": "2025-04-07T05:30:54.511403",
     "exception": false,
     "start_time": "2025-04-07T05:30:54.502281",
     "status": "completed"
    },
    "tags": []
   },
   "source": [
    "## Tune a custom model\n",
    "\n",
    "In this example you'll use tuning to create a model that requires no prompting or system instructions and outputs succinct text from the classes you provide in the training data.\n",
    "\n",
    "The data contains both input text (the processed posts) and output text (the category, or newsgroup), that you can use to start tuning a model.\n",
    "\n",
    "When calling `tune()`, you can specify model tuning hyperparameters too:\n",
    " - `epoch_count`: defines how many times to loop through the data,\n",
    " - `batch_size`: defines how many rows to process in a single step, and\n",
    " - `learning_rate`: defines the scaling factor for updating model weights at each step.\n",
    "\n",
    "You can also choose to omit them and use the defaults. [Learn more](https://developers.google.com/machine-learning/crash-course/linear-regression/hyperparameters) about these parameters and how they work. For this example these parameters were selected by running some tuning jobs and selecting parameters that converged efficiently.\n",
    "\n",
    "This example will start a new tuning job, but only if one does not already exist. This allows you to leave this codelab and come back later - re-running this step will find your last model."
   ]
  },
  {
   "cell_type": "code",
   "execution_count": 17,
   "id": "132144e2",
   "metadata": {
    "execution": {
     "iopub.execute_input": "2025-04-07T05:30:54.533284Z",
     "iopub.status.busy": "2025-04-07T05:30:54.532240Z",
     "iopub.status.idle": "2025-04-07T05:30:54.936867Z",
     "shell.execute_reply": "2025-04-07T05:30:54.935662Z"
    },
    "id": "pWOZlspfY8dV",
    "papermill": {
     "duration": 0.418695,
     "end_time": "2025-04-07T05:30:54.939736",
     "exception": false,
     "start_time": "2025-04-07T05:30:54.521041",
     "status": "completed"
    },
    "tags": []
   },
   "outputs": [
    {
     "name": "stdout",
     "output_type": "stream",
     "text": [
      "Found existing tuned model to reuse.\n",
      "tunedModels/newsgroup-classification-model-sqlmjgi62\n"
     ]
    }
   ],
   "source": [
    "from collections.abc import Iterable\n",
    "import random\n",
    "\n",
    "\n",
    "# Convert the data frame into a dataset suitable for tuning.\n",
    "input_data = {'examples': \n",
    "    df_train[['Text', 'Class Name']]\n",
    "      .rename(columns={'Text': 'textInput', 'Class Name': 'output'})\n",
    "      .to_dict(orient='records')\n",
    " }\n",
    "\n",
    "# If you are re-running this lab, add your model_id here.\n",
    "model_id = None\n",
    "\n",
    "# Or try and find a recent tuning job.\n",
    "if not model_id:\n",
    "  queued_model = None\n",
    "  # Newest models first.\n",
    "  for m in reversed(client.tunings.list()):\n",
    "    # Only look at newsgroup classification models.\n",
    "    if m.name.startswith('tunedModels/newsgroup-classification-model'):\n",
    "      # If there is a completed model, use the first (newest) one.\n",
    "      if m.state.name == 'JOB_STATE_SUCCEEDED':\n",
    "        model_id = m.name\n",
    "        print('Found existing tuned model to reuse.')\n",
    "        break\n",
    "\n",
    "      elif m.state.name == 'JOB_STATE_RUNNING' and not queued_model:\n",
    "        # If there's a model still queued, remember the most recent one.\n",
    "        queued_model = m.name\n",
    "  else:\n",
    "    if queued_model:\n",
    "      model_id = queued_model\n",
    "      print('Found queued model, still waiting.')\n",
    "\n",
    "\n",
    "# Upload the training data and queue the tuning job.\n",
    "if not model_id:\n",
    "    tuning_op = client.tunings.tune(\n",
    "        base_model=\"models/gemini-1.5-flash-001-tuning\",\n",
    "        training_dataset=input_data,\n",
    "        config=types.CreateTuningJobConfig(\n",
    "            tuned_model_display_name=\"Newsgroup classification model\",\n",
    "            batch_size=16,\n",
    "            epoch_count=2,\n",
    "        ),\n",
    "    )\n",
    "\n",
    "    print(tuning_op.state)\n",
    "    model_id = tuning_op.name\n",
    "\n",
    "print(model_id)"
   ]
  },
  {
   "cell_type": "markdown",
   "id": "6ebf3e24",
   "metadata": {
    "id": "NQ3YZ2MBubCY",
    "papermill": {
     "duration": 0.010178,
     "end_time": "2025-04-07T05:30:54.965136",
     "exception": false,
     "start_time": "2025-04-07T05:30:54.954958",
     "status": "completed"
    },
    "tags": []
   },
   "source": [
    "This has created a tuning job that will run in the background. To inspect the progress of the tuning job, run this cell to plot the current status and loss curve. Once the status reaches `ACTIVE`, tuning is complete and the model is ready to use.\n",
    "\n",
    "Tuning jobs are queued, so it may look like no training steps have been taken initially but it will progress. Tuning can take anywhere from a few minutes to multiple hours, depending on factors like your dataset size and how busy the tuning infrastrature is. Why not treat yourself to a nice cup of tea while you wait, or come and say \"Hi!\" in the group [Discord](https://discord.com/invite/kaggle).\n",
    "\n",
    "It is safe to stop this cell at any point. It will not stop the tuning job.\n",
    "\n",
    "**IMPORTANT**: Due to the high volume of users doing this course, tuning jobs may be queued for many hours. Take a note of your tuned model ID above (`tunedModels/...`) so you can come back to it tomorrow. In the meantime, check out the [Search grounding](https://www.kaggle.com/code/markishere/day-4-google-search-grounding/) codelab. If you want to try tuning a local LLM, check out [the fine-tuning guides for tuning a Gemma model](https://ai.google.dev/gemma/docs/tune)."
   ]
  },
  {
   "cell_type": "code",
   "execution_count": 18,
   "id": "8cb39f12",
   "metadata": {
    "execution": {
     "iopub.execute_input": "2025-04-07T05:30:54.986199Z",
     "iopub.status.busy": "2025-04-07T05:30:54.985795Z",
     "iopub.status.idle": "2025-04-07T05:30:55.634860Z",
     "shell.execute_reply": "2025-04-07T05:30:55.633371Z"
    },
    "id": "c4ef5f13692d",
    "papermill": {
     "duration": 0.6622,
     "end_time": "2025-04-07T05:30:55.637169",
     "exception": false,
     "start_time": "2025-04-07T05:30:54.974969",
     "status": "completed"
    },
    "tags": []
   },
   "outputs": [
    {
     "name": "stdout",
     "output_type": "stream",
     "text": [
      "Done! The model state is: JOB_STATE_SUCCEEDED\n"
     ]
    }
   ],
   "source": [
    "import datetime\n",
    "import time\n",
    "\n",
    "\n",
    "MAX_WAIT = datetime.timedelta(minutes=10)\n",
    "\n",
    "while not (tuned_model := client.tunings.get(name=model_id)).has_ended:\n",
    "\n",
    "    print(tuned_model.state)\n",
    "    time.sleep(60)\n",
    "\n",
    "    # Don't wait too long. Use a public model if this is going to take a while.\n",
    "    if datetime.datetime.now(datetime.timezone.utc) - tuned_model.create_time > MAX_WAIT:\n",
    "        print(\"Taking a shortcut, using a previously prepared model.\")\n",
    "        model_id = \"tunedModels/newsgroup-classification-model-ltenbi1b\"\n",
    "        tuned_model = client.tunings.get(name=model_id)\n",
    "        break\n",
    "\n",
    "\n",
    "print(f\"Done! The model state is: {tuned_model.state.name}\")\n",
    "\n",
    "if not tuned_model.has_succeeded and tuned_model.error:\n",
    "    print(\"Error:\", tuned_model.error)"
   ]
  },
  {
   "cell_type": "markdown",
   "id": "2e26557b",
   "metadata": {
    "id": "9-qiIdK4u80z",
    "papermill": {
     "duration": 0.010632,
     "end_time": "2025-04-07T05:30:55.657552",
     "exception": false,
     "start_time": "2025-04-07T05:30:55.646920",
     "status": "completed"
    },
    "tags": []
   },
   "source": [
    "## Use the new model\n",
    "\n",
    "Now that you have a tuned model, try it out with custom data. You use the same API as a normal Gemini API interaction, but you specify your new model as the model name, which will start with `tunedModels/`."
   ]
  },
  {
   "cell_type": "code",
   "execution_count": 19,
   "id": "d455016c",
   "metadata": {
    "execution": {
     "iopub.execute_input": "2025-04-07T05:30:55.678349Z",
     "iopub.status.busy": "2025-04-07T05:30:55.677992Z",
     "iopub.status.idle": "2025-04-07T05:30:56.508700Z",
     "shell.execute_reply": "2025-04-07T05:30:56.507397Z"
    },
    "id": "hyO2-MXLvM6a",
    "papermill": {
     "duration": 0.843802,
     "end_time": "2025-04-07T05:30:56.511012",
     "exception": false,
     "start_time": "2025-04-07T05:30:55.667210",
     "status": "completed"
    },
    "tags": []
   },
   "outputs": [
    {
     "name": "stdout",
     "output_type": "stream",
     "text": [
      "sci.space\n"
     ]
    }
   ],
   "source": [
    "new_text = \"\"\"\n",
    "First-timer looking to get out of here.\n",
    "\n",
    "Hi, I'm writing about my interest in travelling to the outer limits!\n",
    "\n",
    "What kind of craft can I buy? What is easiest to access from this 3rd rock?\n",
    "\n",
    "Let me know how to do that please.\n",
    "\"\"\"\n",
    "\n",
    "response = client.models.generate_content(\n",
    "    model=model_id, contents=new_text)\n",
    "\n",
    "print(response.text)"
   ]
  },
  {
   "cell_type": "markdown",
   "id": "bae0f4b2",
   "metadata": {
    "id": "xajLek9DySH_",
    "papermill": {
     "duration": 0.009337,
     "end_time": "2025-04-07T05:30:56.530059",
     "exception": false,
     "start_time": "2025-04-07T05:30:56.520722",
     "status": "completed"
    },
    "tags": []
   },
   "source": [
    "### Evaluation\n",
    "\n",
    "You can see that the model outputs labels that correspond to those in the training data, and without any system instructions or prompting, which is already a great improvement. Now see how well it performs on the test set.\n",
    "\n",
    "Note that there is no parallelism in this example; classifying the test sub-set will take a few minutes."
   ]
  },
  {
   "cell_type": "code",
   "execution_count": 20,
   "id": "02112071",
   "metadata": {
    "execution": {
     "iopub.execute_input": "2025-04-07T05:30:56.550551Z",
     "iopub.status.busy": "2025-04-07T05:30:56.550143Z",
     "iopub.status.idle": "2025-04-07T05:32:58.607504Z",
     "shell.execute_reply": "2025-04-07T05:32:58.606346Z"
    },
    "id": "6T2Y3ZApvbMw",
    "papermill": {
     "duration": 122.070354,
     "end_time": "2025-04-07T05:32:58.609751",
     "exception": false,
     "start_time": "2025-04-07T05:30:56.539397",
     "status": "completed"
    },
    "tags": []
   },
   "outputs": [
    {
     "data": {
      "application/vnd.jupyter.widget-view+json": {
       "model_id": "7e4f9cd5bc254b4ea26c6362b8ddac86",
       "version_major": 2,
       "version_minor": 0
      },
      "text/plain": [
       "Output()"
      ]
     },
     "metadata": {},
     "output_type": "display_data"
    },
    {
     "data": {
      "text/html": [
       "<pre style=\"white-space:pre;overflow-x:auto;line-height:normal;font-family:Menlo,'DejaVu Sans Mono',consolas,'Courier New',monospace\"></pre>\n"
      ],
      "text/plain": []
     },
     "metadata": {},
     "output_type": "display_data"
    },
    {
     "data": {
      "text/html": [
       "<pre style=\"white-space:pre;overflow-x:auto;line-height:normal;font-family:Menlo,'DejaVu Sans Mono',consolas,'Courier New',monospace\">\n",
       "</pre>\n"
      ],
      "text/plain": [
       "\n"
      ]
     },
     "metadata": {},
     "output_type": "display_data"
    },
    {
     "name": "stdout",
     "output_type": "stream",
     "text": [
      "Accuracy: 90.62%\n"
     ]
    }
   ],
   "source": [
    "@retry.Retry(predicate=is_retriable)\n",
    "def classify_text(text: str) -> str:\n",
    "    \"\"\"Classify the provided text into a known newsgroup.\"\"\"\n",
    "    response = client.models.generate_content(\n",
    "        model=model_id, contents=text)\n",
    "    rc = response.candidates[0]\n",
    "\n",
    "    # Any errors, filters, recitation, etc we can mark as a general error\n",
    "    if rc.finish_reason.name != \"STOP\":\n",
    "        return \"(error)\"\n",
    "    else:\n",
    "        return rc.content.parts[0].text\n",
    "\n",
    "\n",
    "# The sampling here is just to minimise your quota usage. If you can, you should\n",
    "# evaluate the whole test set with `df_model_eval = df_test.copy()`.\n",
    "df_model_eval = sample_data(df_test, 4, '.*')\n",
    "\n",
    "df_model_eval[\"Prediction\"] = df_model_eval[\"Text\"].progress_apply(classify_text)\n",
    "\n",
    "accuracy = (df_model_eval[\"Class Name\"] == df_model_eval[\"Prediction\"]).sum() / len(df_model_eval)\n",
    "print(f\"Accuracy: {accuracy:.2%}\")"
   ]
  },
  {
   "cell_type": "markdown",
   "id": "12dd9d68",
   "metadata": {
    "papermill": {
     "duration": 0.016119,
     "end_time": "2025-04-07T05:32:58.640825",
     "exception": false,
     "start_time": "2025-04-07T05:32:58.624706",
     "status": "completed"
    },
    "tags": []
   },
   "source": [
    "## Compare token usage\n",
    "\n",
    "AI Studio and the Gemini API provide model tuning at no cost, however normal limits and charges apply for *use* of a tuned model.\n",
    "\n",
    "The size of the input prompt and other generation config like system instructions, as well as the number of generated output tokens, all contribute to the overall cost of a request."
   ]
  },
  {
   "cell_type": "code",
   "execution_count": 21,
   "id": "aecd2b76",
   "metadata": {
    "execution": {
     "iopub.execute_input": "2025-04-07T05:33:02.281591Z",
     "iopub.status.busy": "2025-04-07T05:33:02.281189Z",
     "iopub.status.idle": "2025-04-07T05:33:03.240753Z",
     "shell.execute_reply": "2025-04-07T05:33:03.239690Z"
    },
    "papermill": {
     "duration": 4.588681,
     "end_time": "2025-04-07T05:33:03.243668",
     "exception": false,
     "start_time": "2025-04-07T05:32:58.654987",
     "status": "completed"
    },
    "tags": []
   },
   "outputs": [
    {
     "name": "stdout",
     "output_type": "stream",
     "text": [
      "System instructed baseline model: 172 (input)\n",
      "Tuned model: 136 (input)\n",
      "Token savings: 26.47%\n"
     ]
    }
   ],
   "source": [
    "# Calculate the *input* cost of the baseline model with system instructions.\n",
    "sysint_tokens = client.models.count_tokens(\n",
    "    model='gemini-1.5-flash-001', contents=[system_instruct, sample_row]\n",
    ").total_tokens\n",
    "print(f'System instructed baseline model: {sysint_tokens} (input)')\n",
    "\n",
    "# Calculate the input cost of the tuned model.\n",
    "tuned_tokens = client.models.count_tokens(model=tuned_model.base_model, contents=sample_row).total_tokens\n",
    "print(f'Tuned model: {tuned_tokens} (input)')\n",
    "\n",
    "savings = (sysint_tokens - tuned_tokens) / tuned_tokens\n",
    "print(f'Token savings: {savings:.2%}')  # Note that this is only n=1."
   ]
  },
  {
   "cell_type": "markdown",
   "id": "e56a9b7d",
   "metadata": {
    "papermill": {
     "duration": 0.010044,
     "end_time": "2025-04-07T05:33:03.269946",
     "exception": false,
     "start_time": "2025-04-07T05:33:03.259902",
     "status": "completed"
    },
    "tags": []
   },
   "source": [
    "The earlier verbose model also produced more output tokens than needed for this task."
   ]
  },
  {
   "cell_type": "code",
   "execution_count": 22,
   "id": "f84fb8ea",
   "metadata": {
    "execution": {
     "iopub.execute_input": "2025-04-07T05:33:03.293053Z",
     "iopub.status.busy": "2025-04-07T05:33:03.292256Z",
     "iopub.status.idle": "2025-04-07T05:33:04.193542Z",
     "shell.execute_reply": "2025-04-07T05:33:04.192480Z"
    },
    "papermill": {
     "duration": 0.915263,
     "end_time": "2025-04-07T05:33:04.195915",
     "exception": false,
     "start_time": "2025-04-07T05:33:03.280652",
     "status": "completed"
    },
    "tags": []
   },
   "outputs": [
    {
     "name": "stdout",
     "output_type": "stream",
     "text": [
      "Baseline (verbose) output tokens: 167\n",
      "Tuned output tokens: 4\n"
     ]
    }
   ],
   "source": [
    "baseline_token_output = baseline_response.usage_metadata.candidates_token_count\n",
    "print('Baseline (verbose) output tokens:', baseline_token_output)\n",
    "\n",
    "tuned_model_output = client.models.generate_content(\n",
    "    model=model_id, contents=sample_row)\n",
    "tuned_tokens_output = tuned_model_output.usage_metadata.candidates_token_count\n",
    "print('Tuned output tokens:', tuned_tokens_output)"
   ]
  },
  {
   "cell_type": "markdown",
   "id": "c5685010",
   "metadata": {
    "id": "6c1204a5d0ab",
    "papermill": {
     "duration": 0.00979,
     "end_time": "2025-04-07T05:33:04.216073",
     "exception": false,
     "start_time": "2025-04-07T05:33:04.206283",
     "status": "completed"
    },
    "tags": []
   },
   "source": [
    "## Next steps\n",
    "\n",
    "Now that you have tuned a classification model, try some other tasks, like tuning a model to respond with a specific tone or style using hand-written examples (or even generated examples!). Kaggle hosts [a number of datasets](https://www.kaggle.com/datasets) you can try out.\n",
    "\n",
    "Learn about [when supervised fine-tuning is most effective](https://cloud.google.com/blog/products/ai-machine-learning/supervised-fine-tuning-for-gemini-llm).\n",
    "\n",
    "And check out the [fine-tuning tutorial](https://ai.google.dev/gemini-api/docs/model-tuning/tutorial?hl=en&lang=python) for another example that shows a tuned model extending beyond the training data to new, unseen inputs.\n",
    "\n",
    "*- [Mark McD](https://linktr.ee/markmcd)*"
   ]
  }
 ],
 "metadata": {
  "colab": {
   "name": "day-4-fine-tuning-a-custom-model.ipynb",
   "toc_visible": true
  },
  "kaggle": {
   "accelerator": "none",
   "dataSources": [],
   "dockerImageVersionId": 30786,
   "isGpuEnabled": false,
   "isInternetEnabled": true,
   "language": "python",
   "sourceType": "notebook"
  },
  "kernelspec": {
   "display_name": "Python 3",
   "language": "python",
   "name": "python3"
  },
  "language_info": {
   "codemirror_mode": {
    "name": "ipython",
    "version": 3
   },
   "file_extension": ".py",
   "mimetype": "text/x-python",
   "name": "python",
   "nbconvert_exporter": "python",
   "pygments_lexer": "ipython3",
   "version": "3.10.14"
  },
  "papermill": {
   "default_parameters": {},
   "duration": 241.219121,
   "end_time": "2025-04-07T05:33:05.149498",
   "environment_variables": {},
   "exception": null,
   "input_path": "__notebook__.ipynb",
   "output_path": "__notebook__.ipynb",
   "parameters": {},
   "start_time": "2025-04-07T05:29:03.930377",
   "version": "2.6.0"
  },
  "widgets": {
   "application/vnd.jupyter.widget-state+json": {
    "state": {
     "28062ad3c52247fc8c4ba4bdc51b481c": {
      "model_module": "@jupyter-widgets/base",
      "model_module_version": "1.2.0",
      "model_name": "LayoutModel",
      "state": {
       "_model_module": "@jupyter-widgets/base",
       "_model_module_version": "1.2.0",
       "_model_name": "LayoutModel",
       "_view_count": null,
       "_view_module": "@jupyter-widgets/base",
       "_view_module_version": "1.2.0",
       "_view_name": "LayoutView",
       "align_content": null,
       "align_items": null,
       "align_self": null,
       "border": null,
       "bottom": null,
       "display": null,
       "flex": null,
       "flex_flow": null,
       "grid_area": null,
       "grid_auto_columns": null,
       "grid_auto_flow": null,
       "grid_auto_rows": null,
       "grid_column": null,
       "grid_gap": null,
       "grid_row": null,
       "grid_template_areas": null,
       "grid_template_columns": null,
       "grid_template_rows": null,
       "height": null,
       "justify_content": null,
       "justify_items": null,
       "left": null,
       "margin": null,
       "max_height": null,
       "max_width": null,
       "min_height": null,
       "min_width": null,
       "object_fit": null,
       "object_position": null,
       "order": null,
       "overflow": null,
       "overflow_x": null,
       "overflow_y": null,
       "padding": null,
       "right": null,
       "top": null,
       "visibility": null,
       "width": null
      }
     },
     "73efe2f4d24840ca828b93f98fe9df3f": {
      "model_module": "@jupyter-widgets/base",
      "model_module_version": "1.2.0",
      "model_name": "LayoutModel",
      "state": {
       "_model_module": "@jupyter-widgets/base",
       "_model_module_version": "1.2.0",
       "_model_name": "LayoutModel",
       "_view_count": null,
       "_view_module": "@jupyter-widgets/base",
       "_view_module_version": "1.2.0",
       "_view_name": "LayoutView",
       "align_content": null,
       "align_items": null,
       "align_self": null,
       "border": null,
       "bottom": null,
       "display": null,
       "flex": null,
       "flex_flow": null,
       "grid_area": null,
       "grid_auto_columns": null,
       "grid_auto_flow": null,
       "grid_auto_rows": null,
       "grid_column": null,
       "grid_gap": null,
       "grid_row": null,
       "grid_template_areas": null,
       "grid_template_columns": null,
       "grid_template_rows": null,
       "height": null,
       "justify_content": null,
       "justify_items": null,
       "left": null,
       "margin": null,
       "max_height": null,
       "max_width": null,
       "min_height": null,
       "min_width": null,
       "object_fit": null,
       "object_position": null,
       "order": null,
       "overflow": null,
       "overflow_x": null,
       "overflow_y": null,
       "padding": null,
       "right": null,
       "top": null,
       "visibility": null,
       "width": null
      }
     },
     "7e4f9cd5bc254b4ea26c6362b8ddac86": {
      "model_module": "@jupyter-widgets/output",
      "model_module_version": "1.0.0",
      "model_name": "OutputModel",
      "state": {
       "_dom_classes": [],
       "_model_module": "@jupyter-widgets/output",
       "_model_module_version": "1.0.0",
       "_model_name": "OutputModel",
       "_view_count": null,
       "_view_module": "@jupyter-widgets/output",
       "_view_module_version": "1.0.0",
       "_view_name": "OutputView",
       "layout": "IPY_MODEL_73efe2f4d24840ca828b93f98fe9df3f",
       "msg_id": "",
       "outputs": [
        {
         "data": {
          "text/html": "<pre style=\"white-space:pre;overflow-x:auto;line-height:normal;font-family:Menlo,'DejaVu Sans Mono',consolas,'Courier New',monospace\"><span style=\"color: #800080; text-decoration-color: #800080\"> 100%</span> <span style=\"color: #729c1f; text-decoration-color: #729c1f\">━━━━━━━━━━━━━━━━━━━━━━━━━━━━━━━━━━━━━━━━━━━━━━━━━━━━━━━━━━━━━━━━━━━━━━━</span> <span style=\"color: #008000; text-decoration-color: #008000\">32/32 </span> [ <span style=\"color: #808000; text-decoration-color: #808000\">0:02:01</span> &lt; <span style=\"color: #008080; text-decoration-color: #008080\">0:00:00</span> , <span style=\"color: #800000; text-decoration-color: #800000\">1 it/s</span> ]\n</pre>\n",
          "text/plain": "\u001b[35m 100%\u001b[0m \u001b[38;2;114;156;31m━━━━━━━━━━━━━━━━━━━━━━━━━━━━━━━━━━━━━━━━━━━━━━━━━━━━━━━━━━━━━━━━━━━━━━━\u001b[0m \u001b[32m32/32 \u001b[0m [ \u001b[33m0:02:01\u001b[0m < \u001b[36m0:00:00\u001b[0m , \u001b[31m1 it/s\u001b[0m ]\n"
         },
         "metadata": {},
         "output_type": "display_data"
        }
       ]
      }
     },
     "a73c5de16bad46ff9e1ca787d3810a7d": {
      "model_module": "@jupyter-widgets/output",
      "model_module_version": "1.0.0",
      "model_name": "OutputModel",
      "state": {
       "_dom_classes": [],
       "_model_module": "@jupyter-widgets/output",
       "_model_module_version": "1.0.0",
       "_model_name": "OutputModel",
       "_view_count": null,
       "_view_module": "@jupyter-widgets/output",
       "_view_module_version": "1.0.0",
       "_view_name": "OutputView",
       "layout": "IPY_MODEL_28062ad3c52247fc8c4ba4bdc51b481c",
       "msg_id": "",
       "outputs": [
        {
         "data": {
          "text/html": "<pre style=\"white-space:pre;overflow-x:auto;line-height:normal;font-family:Menlo,'DejaVu Sans Mono',consolas,'Courier New',monospace\"><span style=\"color: #800080; text-decoration-color: #800080\"> 100%</span> <span style=\"color: #729c1f; text-decoration-color: #729c1f\">━━━━━━━━━━━━━━━━━━━━━━━━━━━━━━━━━━━━━━━━━━━━━━━━━━━━━━━━━━━━━━━━━━━━━━━</span> <span style=\"color: #008000; text-decoration-color: #008000\">16/16 </span> [ <span style=\"color: #808000; text-decoration-color: #808000\">0:00:56</span> &lt; <span style=\"color: #008080; text-decoration-color: #008080\">0:00:00</span> , <span style=\"color: #800000; text-decoration-color: #800000\">2 it/s</span> ]\n</pre>\n",
          "text/plain": "\u001b[35m 100%\u001b[0m \u001b[38;2;114;156;31m━━━━━━━━━━━━━━━━━━━━━━━━━━━━━━━━━━━━━━━━━━━━━━━━━━━━━━━━━━━━━━━━━━━━━━━\u001b[0m \u001b[32m16/16 \u001b[0m [ \u001b[33m0:00:56\u001b[0m < \u001b[36m0:00:00\u001b[0m , \u001b[31m2 it/s\u001b[0m ]\n"
         },
         "metadata": {},
         "output_type": "display_data"
        }
       ]
      }
     }
    },
    "version_major": 2,
    "version_minor": 0
   }
  }
 },
 "nbformat": 4,
 "nbformat_minor": 5
}
